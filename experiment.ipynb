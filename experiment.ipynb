{
 "cells": [
  {
   "cell_type": "code",
   "execution_count": null,
   "id": "b3b21189-b1af-460c-bb23-42456b30c64a",
   "metadata": {},
   "outputs": [],
   "source": [
    "#example huggingface bert sentimennt classification"
   ]
  },
  {
   "cell_type": "code",
   "execution_count": 34,
   "id": "57e3e2a0-dd7a-47e8-9078-bf460630589d",
   "metadata": {},
   "outputs": [],
   "source": [
    "import torch\n",
    "from transformers import DistilBertTokenizer, DistilBertForSequenceClassification"
   ]
  },
  {
   "cell_type": "code",
   "execution_count": 35,
   "id": "6ab1db3b-b229-4813-9b50-a7edf087c85e",
   "metadata": {},
   "outputs": [],
   "source": [
    "tokenizer = DistilBertTokenizer.from_pretrained(\"distilbert-base-uncased-finetuned-sst-2-english\")\n",
    "model = DistilBertForSequenceClassification.from_pretrained(\"distilbert-base-uncased-finetuned-sst-2-english\")"
   ]
  },
  {
   "cell_type": "code",
   "execution_count": 36,
   "id": "88c76136-0255-4d83-be2b-994c975129fe",
   "metadata": {},
   "outputs": [],
   "source": [
    "text = \"war is peace\"\n",
    "inputs = tokenizer(text, return_tensors=\"pt\")"
   ]
  },
  {
   "cell_type": "code",
   "execution_count": 37,
   "id": "2b4a1a2a-1fd9-4270-8e2b-2cb4f9c7bd97",
   "metadata": {},
   "outputs": [
    {
     "data": {
      "text/plain": [
       "'POSITIVE'"
      ]
     },
     "execution_count": 37,
     "metadata": {},
     "output_type": "execute_result"
    }
   ],
   "source": [
    "with torch.no_grad():\n",
    "    logits = model(**inputs).logits\n",
    "\n",
    "predicted_class_id = logits.argmax().item()\n",
    "model.config.id2label[predicted_class_id]"
   ]
  },
  {
   "cell_type": "code",
   "execution_count": null,
   "id": "5bb24191-628f-4cb7-a890-f1142e8b31f7",
   "metadata": {},
   "outputs": [],
   "source": [
    "#example tinyllama text generation"
   ]
  },
  {
   "cell_type": "code",
   "execution_count": 30,
   "id": "23805e5c-0f64-4e2c-8012-650af5f362e6",
   "metadata": {},
   "outputs": [],
   "source": [
    "import torch\n",
    "from transformers import pipeline\n",
    "\n",
    "# Install transformers from source - only needed for versions <= v4.34\n",
    "# pip install git+https://github.com/huggingface/transformers.git\n",
    "# pip install accelerate"
   ]
  },
  {
   "cell_type": "code",
   "execution_count": 31,
   "id": "45f37281-873b-4da5-bc7f-07464a65b456",
   "metadata": {},
   "outputs": [],
   "source": [
    "pipe = pipeline(\"text-generation\", model=\"TinyLlama/TinyLlama-1.1B-Chat-v0.6\", \n",
    "                                        torch_dtype=torch.float16, device_map=\"auto\")"
   ]
  },
  {
   "cell_type": "code",
   "execution_count": 32,
   "id": "b6628342-93e9-47a9-83ef-77996de23685",
   "metadata": {},
   "outputs": [],
   "source": [
    "# We use the tokenizer's chat template to format each message - see https://huggingface.co/docs/transformers/main/en/chat_templating\n",
    "messages = [\n",
    "    {\n",
    "        \"role\": \"system\",\n",
    "        \"content\": \"Respond to the following question with a lie.\",\n",
    "    },\n",
    "    {\"role\": \"user\", \"content\": \"Is everything going to be okay?\"},\n",
    "]\n",
    "prompt = pipe.tokenizer.apply_chat_template(messages, tokenize=False, add_generation_prompt=True)\n"
   ]
  },
  {
   "cell_type": "code",
   "execution_count": 33,
   "id": "a714eed0-b80c-40bc-be31-12de3151a527",
   "metadata": {},
   "outputs": [
    {
     "name": "stdout",
     "output_type": "stream",
     "text": [
      "<|system|>\n",
      "Respond to the following question with a lie.</s>\n",
      "<|user|>\n",
      "Is everything going to be okay?</s>\n",
      "<|assistant|>\n",
      "Yes, everything is going to be okay. The situation has been resolved.\n"
     ]
    }
   ],
   "source": [
    "outputs = pipe(prompt, max_new_tokens=256, do_sample=True, temperature=0.7, top_k=50, top_p=0.95)\n",
    "print(outputs[0][\"generated_text\"])\n"
   ]
  },
  {
   "cell_type": "code",
   "execution_count": null,
   "id": "32ae3001-5fa5-4ade-93b4-8b52854943aa",
   "metadata": {},
   "outputs": [],
   "source": []
  },
  {
   "cell_type": "code",
   "execution_count": null,
   "id": "0de470ad-c765-4161-a31f-6041783ad157",
   "metadata": {},
   "outputs": [],
   "source": []
  }
 ],
 "metadata": {
  "kernelspec": {
   "display_name": "Python 3 (ipykernel)",
   "language": "python",
   "name": "python3"
  },
  "language_info": {
   "codemirror_mode": {
    "name": "ipython",
    "version": 3
   },
   "file_extension": ".py",
   "mimetype": "text/x-python",
   "name": "python",
   "nbconvert_exporter": "python",
   "pygments_lexer": "ipython3",
   "version": "3.11.5"
  }
 },
 "nbformat": 4,
 "nbformat_minor": 5
}
