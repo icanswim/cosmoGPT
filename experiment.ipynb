{
 "cells": [
  {
   "cell_type": "code",
   "execution_count": null,
   "id": "b3b21189-b1af-460c-bb23-42456b30c64a",
   "metadata": {},
   "outputs": [],
   "source": [
    "#example huggingface small bert model"
   ]
  },
  {
   "cell_type": "code",
   "execution_count": 2,
   "id": "57e3e2a0-dd7a-47e8-9078-bf460630589d",
   "metadata": {},
   "outputs": [],
   "source": [
    "import torch\n",
    "from transformers import DistilBertTokenizer, DistilBertForSequenceClassification"
   ]
  },
  {
   "cell_type": "code",
   "execution_count": 3,
   "id": "6ab1db3b-b229-4813-9b50-a7edf087c85e",
   "metadata": {},
   "outputs": [],
   "source": [
    "tokenizer = DistilBertTokenizer.from_pretrained(\"distilbert-base-uncased-finetuned-sst-2-english\")\n",
    "model = DistilBertForSequenceClassification.from_pretrained(\"distilbert-base-uncased-finetuned-sst-2-english\")"
   ]
  },
  {
   "cell_type": "code",
   "execution_count": 22,
   "id": "88c76136-0255-4d83-be2b-994c975129fe",
   "metadata": {},
   "outputs": [],
   "source": [
    "text = \"war is peace\"\n",
    "inputs = tokenizer(text, return_tensors=\"pt\")"
   ]
  },
  {
   "cell_type": "code",
   "execution_count": 23,
   "id": "2b4a1a2a-1fd9-4270-8e2b-2cb4f9c7bd97",
   "metadata": {},
   "outputs": [
    {
     "data": {
      "text/plain": [
       "'POSITIVE'"
      ]
     },
     "execution_count": 23,
     "metadata": {},
     "output_type": "execute_result"
    }
   ],
   "source": [
    "with torch.no_grad():\n",
    "    logits = model(**inputs).logits\n",
    "\n",
    "predicted_class_id = logits.argmax().item()\n",
    "model.config.id2label[predicted_class_id]"
   ]
  },
  {
   "cell_type": "code",
   "execution_count": null,
   "id": "51f50b2e-881a-4348-96c0-4408a7d96bbc",
   "metadata": {},
   "outputs": [],
   "source": [
    "#example huggingface LLM"
   ]
  },
  {
   "cell_type": "code",
   "execution_count": 1,
   "id": "b185a006-7ddb-4f63-89da-91d984e49e8b",
   "metadata": {},
   "outputs": [
    {
     "name": "stderr",
     "output_type": "stream",
     "text": [
      "/home/fltr/miniconda3/envs/hugging/lib/python3.11/site-packages/tqdm/auto.py:21: TqdmWarning: IProgress not found. Please update jupyter and ipywidgets. See https://ipywidgets.readthedocs.io/en/stable/user_install.html\n",
      "  from .autonotebook import tqdm as notebook_tqdm\n"
     ]
    }
   ],
   "source": [
    "import torch\n",
    "from transformers import AutoModelForCausalLM, AutoTokenizer"
   ]
  },
  {
   "cell_type": "code",
   "execution_count": 2,
   "id": "9fcbbbe3-39cb-4813-9ce1-262af6e49de7",
   "metadata": {},
   "outputs": [],
   "source": [
    "model_id = \"mistralai/Mixtral-8x7B-Instruct-v0.1\""
   ]
  },
  {
   "cell_type": "code",
   "execution_count": 3,
   "id": "c08b72c2-759d-49ed-b9d0-15b1ab5d0d4c",
   "metadata": {},
   "outputs": [],
   "source": [
    "tokenizer = AutoTokenizer.from_pretrained(model_id)"
   ]
  },
  {
   "cell_type": "code",
   "execution_count": null,
   "id": "ad6eeffb-30a8-408d-8424-34894d0f6d94",
   "metadata": {
    "scrolled": true
   },
   "outputs": [
    {
     "name": "stderr",
     "output_type": "stream",
     "text": [
      "Loading checkpoint shards: 100%|██████████████████████████████████████████████████████| 19/19 [01:55<00:00,  6.05s/it]\n"
     ]
    }
   ],
   "source": [
    "model = AutoModelForCausalLM.from_pretrained(model_id, torch_dtype=torch.float16).to(0)"
   ]
  },
  {
   "cell_type": "code",
   "execution_count": null,
   "id": "30faca55-1e00-4783-8ac0-704f5623b1c3",
   "metadata": {},
   "outputs": [],
   "source": [
    "text = \"Hello my name is\""
   ]
  },
  {
   "cell_type": "code",
   "execution_count": null,
   "id": "3c9ec70d-2603-4a15-ae25-096ada843f88",
   "metadata": {},
   "outputs": [],
   "source": [
    "inputs = tokenizer(text, return_tensors=\"pt\").to(0)"
   ]
  },
  {
   "cell_type": "code",
   "execution_count": null,
   "id": "25c1847a-1e73-48a1-8afa-b6bf21bad6b9",
   "metadata": {},
   "outputs": [],
   "source": [
    "outputs = model.generate(**inputs, max_new_tokens=20)\n",
    "print(tokenizer.decode(outputs[0], skip_special_tokens=True))"
   ]
  },
  {
   "cell_type": "code",
   "execution_count": null,
   "id": "86e25716-d9b4-4b8c-8ca6-2052c22a0624",
   "metadata": {},
   "outputs": [],
   "source": []
  },
  {
   "cell_type": "code",
   "execution_count": null,
   "id": "f41baba8-26c0-4f6d-973e-2de014956443",
   "metadata": {},
   "outputs": [],
   "source": []
  }
 ],
 "metadata": {
  "kernelspec": {
   "display_name": "Python 3 (ipykernel)",
   "language": "python",
   "name": "python3"
  },
  "language_info": {
   "codemirror_mode": {
    "name": "ipython",
    "version": 3
   },
   "file_extension": ".py",
   "mimetype": "text/x-python",
   "name": "python",
   "nbconvert_exporter": "python",
   "pygments_lexer": "ipython3",
   "version": "3.11.5"
  }
 },
 "nbformat": 4,
 "nbformat_minor": 5
}
